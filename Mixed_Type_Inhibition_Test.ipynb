{
 "cells": [
  {
   "cell_type": "code",
   "execution_count": 4,
   "metadata": {},
   "outputs": [],
   "source": [
    "# Vamos a arrancar cargando los parametros iniciales que estimamos\n",
    "Vmax = 30\n",
    "Ks1 = 200\n",
    "Ks2 = 100\n",
    "Alpha = 0.5\n",
    "Beta = 0.3\n"
   ]
  },
  {
   "cell_type": "code",
   "execution_count": 5,
   "metadata": {},
   "outputs": [],
   "source": [
    "import scipy.optimize as optimization  # Scipy: Necesitamos esta libreria para hacer el Metodo de Minimos Cuadrados\n",
    "import numpy as np                     # Numpy: complementa a la anterior y nos deja usar matrices onda Matlab \n",
    "import csv                             # Esta nos deja usar archivos CSV\n",
    "\n",
    "# Ahora vamos a agarrar el archivo que yo compile con tus datos que se llama 'data.csv' donde CSV es Comma Separated Values\n",
    "# y lo vamos a convertir en tres matrices de numpy\n",
    "\n",
    "A = []\n",
    "B = []\n",
    "V = []\n",
    "\n",
    "with open('data.csv') as f:\n",
    "    csv_reader = csv.reader(f, delimiter=',')\n",
    "    \n",
    "    # Evitamos la primer linea (A, B, V)\n",
    "    next(csv_reader)\n",
    "    \n",
    "    for row in csv_reader:\n",
    "        A.append(float(row[0]))\n",
    "        B.append(float(row[1]))\n",
    "        V.append(float(row[2]))\n",
    "\n",
    "# Convertimos los arrays de Python a arrays de Numpy optimizados\n",
    "A = np.array(A)\n",
    "B = np.array(B)\n",
    "V = np.array(V)\n"
   ]
  },
  {
   "cell_type": "code",
   "execution_count": 9,
   "metadata": {},
   "outputs": [
    {
     "name": "stdout",
     "output_type": "stream",
     "text": [
      "Vmax:  33.400441623615094 ± 1.3483857936542092\n",
      "Ks1:   256.6510622664929 ± 22.557948751483554\n",
      "Ks2:   168.17624394602785 ± 31.17503348960261\n",
      "Alpha: 0.962432108984878 ± 0.1992751961117363\n",
      "Beta:  0.3935606069344552 ± 0.04512868593365711\n",
      "RSS:   8.102260375776956\n"
     ]
    }
   ],
   "source": [
    "# Vamos a definir nuestra funcion a fittear\n",
    "\n",
    "def f(var_indep, Vmax, Ks1, Ks2, Alpha, Beta):\n",
    "    A, B = var_indep\n",
    "    num = Vmax * ( (A/Ks1) + ( (Beta*A*B) / (Alpha*Ks1*Ks2) ) )\n",
    "    denom = 1 + (A/Ks1) + (B/Ks2) +( (A*B) / (Alpha*Ks1*Ks2))\n",
    "    return num/denom\n",
    "\n",
    "start = np.array([Vmax, Ks1, Ks2, Alpha, Beta])\n",
    "\n",
    "popt, pcov = optimization.curve_fit(f, (A, B), V, start)\n",
    "\n",
    "std_dev = np.sqrt(np.diag(pcov))\n",
    "\n",
    "print(f'Vmax:  {popt[0]} ± {std_dev[0]}')\n",
    "print(f'Ks1:   {popt[1]} ± {std_dev[1]}')\n",
    "print(f'Ks2:   {popt[2]} ± {std_dev[2]}')\n",
    "print(f'Alpha: {popt[3]} ± {std_dev[3]}')\n",
    "print(f'Beta:  {popt[4]} ± {std_dev[4]}')\n",
    "\n",
    "residuals =  V - f((A, B), *popt)\n",
    "RSS = np.sum(residuals**2)\n",
    "\n",
    "print(f'RSS:   {RSS}')"
   ]
  },
  {
   "cell_type": "code",
   "execution_count": null,
   "metadata": {},
   "outputs": [],
   "source": []
  }
 ],
 "metadata": {
  "kernelspec": {
   "display_name": "Python 3",
   "language": "python",
   "name": "python3"
  },
  "language_info": {
   "codemirror_mode": {
    "name": "ipython",
    "version": 3
   },
   "file_extension": ".py",
   "mimetype": "text/x-python",
   "name": "python",
   "nbconvert_exporter": "python",
   "pygments_lexer": "ipython3",
   "version": "3.7.3"
  }
 },
 "nbformat": 4,
 "nbformat_minor": 2
}
